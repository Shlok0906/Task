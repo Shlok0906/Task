{
 "cells": [
  {
   "cell_type": "code",
   "execution_count": 1,
   "id": "4866590c-9bb1-4daa-af0c-cd0389226215",
   "metadata": {},
   "outputs": [],
   "source": [
    "from collections import defaultdict"
   ]
  },
  {
   "cell_type": "code",
   "execution_count": 2,
   "id": "1580547a-d9d4-4b83-bd0a-f8e5a0db4f21",
   "metadata": {},
   "outputs": [],
   "source": [
    "class Task:\n",
    "    def __init__(self, id, duration):\n",
    "        self.id = id\n",
    "        self.duration = duration\n",
    "        self.dependencies = []\n",
    "        self.est = 0  # Earliest Start Time\n",
    "        self.eft = 0  # Earliest Finish Time\n",
    "        self.lst = float('inf')  # Latest Start Time\n",
    "        self.lft = float('inf')  # Latest Finish Time"
   ]
  },
  {
   "cell_type": "code",
   "execution_count": 3,
   "id": "60f0bc61-9aab-4422-8821-5a79d2daacf1",
   "metadata": {},
   "outputs": [],
   "source": [
    "def dfs_topological_sort(task_id, visited, stack, task_dict):\n",
    "    visited[task_id] = True\n",
    "    for dep in task_dict[task_id].dependencies:\n",
    "        if not visited[dep]:\n",
    "            dfs_topological_sort(dep, visited, stack, task_dict)\n",
    "    stack.append(task_id)"
   ]
  },
  {
   "cell_type": "code",
   "execution_count": 12,
   "id": "61a4ed80-2714-4885-bcf9-61788ef3e7b5",
   "metadata": {},
   "outputs": [],
   "source": [
    "def calculate_times(tasks):\n",
    "    # Topological Sort using DFS\n",
    "    visited = {task.id: False for task in tasks}\n",
    "    stack = []\n",
    "    for task in tasks:\n",
    "        if not visited[task.id]:\n",
    "            dfs_topological_sort(task.id, visited, stack, task_dict)\n",
    "     # Calculate Earliest Start Time (EST) and Earliest Finish Time (EFT)\n",
    "    while stack:\n",
    "        task_id = stack.pop()\n",
    "        task = task_dict[task_id]\n",
    "        task.eft = task.est + task.duration\n",
    "        for dependent in task_dict:\n",
    "            if task_id in task_dict[dependent].dependencies:\n",
    "                task_dict[dependent].est = max(task_dict[dependent].est, task.eft)\n",
    "     # Calculate Latest Finish Time (LFT) and Latest Start Time (LST)\n",
    "    max_time = max(task_dict[task.id].eft for task in tasks)\n",
    "    for task in task_dict.values():\n",
    "        task.lft = max_time\n",
    "    for task_id in reversed([task.id for task in tasks]):\n",
    "        task = task_dict[task_id]\n",
    "        task.lst = task.lft - task.duration\n",
    "        for dep in task.dependencies:\n",
    "            task_dict[dep].lft = min(task_dict[dep].lft, task.lst)\n",
    "            task_dict[dep].lst = task_dict[dep].lft - task_dict[dep].duration\n",
    "\n",
    "    earliest_completion_time = max(task_dict[task.id].eft for task in tasks)\n",
    "    latest_completion_time = max(task_dict[task.id].lft for task in tasks)\n",
    "\n",
    "    return earliest_completion_time, latest_completion_time"
   ]
  },
  {
   "cell_type": "code",
   "execution_count": 13,
   "id": "3d584c03-b100-4cff-a9ac-528689ab7ef3",
   "metadata": {},
   "outputs": [],
   "source": [
    "# Sample Input\n",
    "task_data = {\n",
    "    'T1': (3, []),\n",
    "    'T2': (2, ['T1']),\n",
    "    'T3': (4, ['T1']),\n",
    "    'T4': (1, ['T2', 'T3']),\n",
    "    'T5': (3, ['T3']),\n",
    "    'T6': (2, ['T4', 'T5'])\n",
    "}"
   ]
  },
  {
   "cell_type": "code",
   "execution_count": 14,
   "id": "77fd2d77-0753-4a81-8b8b-d15738216954",
   "metadata": {},
   "outputs": [],
   "source": [
    "task_dict = {task_id: Task(task_id, duration) for task_id, (duration, _) in task_data.items()}\n",
    "for task_id, (_, dependencies) in task_data.items():\n",
    "    task_dict[task_id].dependencies = dependencies"
   ]
  },
  {
   "cell_type": "code",
   "execution_count": 15,
   "id": "a57b78c9-3d07-4c85-8489-574e3f3c9cb3",
   "metadata": {},
   "outputs": [
    {
     "name": "stdout",
     "output_type": "stream",
     "text": [
      "Earliest completion time: 4\n",
      "Latest completion time: 4\n"
     ]
    }
   ],
   "source": [
    "earliest_time, latest_time = calculate_times(task_dict.values())\n",
    "print(f\"Earliest completion time: {earliest_time}\")\n",
    "print(f\"Latest completion time: {latest_time}\")"
   ]
  },
  {
   "cell_type": "code",
   "execution_count": null,
   "id": "8b6e6fb3-a2ba-4072-a061-741c50f1df70",
   "metadata": {},
   "outputs": [],
   "source": []
  }
 ],
 "metadata": {
  "kernelspec": {
   "display_name": "Python 3 (ipykernel)",
   "language": "python",
   "name": "python3"
  },
  "language_info": {
   "codemirror_mode": {
    "name": "ipython",
    "version": 3
   },
   "file_extension": ".py",
   "mimetype": "text/x-python",
   "name": "python",
   "nbconvert_exporter": "python",
   "pygments_lexer": "ipython3",
   "version": "3.12.4"
  }
 },
 "nbformat": 4,
 "nbformat_minor": 5
}
